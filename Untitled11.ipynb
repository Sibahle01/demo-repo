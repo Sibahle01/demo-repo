{
  "nbformat": 4,
  "nbformat_minor": 0,
  "metadata": {
    "colab": {
      "provenance": [],
      "authorship_tag": "ABX9TyMzD+3nXbR9FcuWf0G67epP",
      "include_colab_link": true
    },
    "kernelspec": {
      "name": "python3",
      "display_name": "Python 3"
    },
    "language_info": {
      "name": "python"
    }
  },
  "cells": [
    {
      "cell_type": "markdown",
      "metadata": {
        "id": "view-in-github",
        "colab_type": "text"
      },
      "source": [
        "<a href=\"https://colab.research.google.com/github/Sibahle01/demo-repo/blob/main/Untitled11.ipynb\" target=\"_parent\"><img src=\"https://colab.research.google.com/assets/colab-badge.svg\" alt=\"Open In Colab\"/></a>"
      ]
    },
    {
      "cell_type": "markdown",
      "source": [
        "# Final Project: Data Science Overview\n"
      ],
      "metadata": {
        "id": "VFdYnbD6uwjL"
      }
    },
    {
      "cell_type": "markdown",
      "source": [],
      "metadata": {
        "id": "5YbL4wTau1q6"
      }
    },
    {
      "cell_type": "markdown",
      "source": [
        "## Introduction\n",
        "This notebook provides an overview of data science, including the languages, libraries, and tools commonly used in the field. We will also demonstrate basic arithmetic operations and conversions using Python.\n"
      ],
      "metadata": {
        "id": "nx7YvXA7v-iG"
      }
    },
    {
      "cell_type": "markdown",
      "source": [
        "## Data Science Languages\n",
        "- Python\n",
        "- R\n",
        "- SQL\n",
        "- Julia\n",
        "- Java\n"
      ],
      "metadata": {
        "id": "nriIpTOFwBZQ"
      }
    },
    {
      "cell_type": "markdown",
      "source": [
        "## Data Science Libraries\n",
        "- Pandas\n",
        "- NumPy\n",
        "- Matplotlib\n",
        "- Seaborn\n",
        "- Scikit-learn\n",
        "- TensorFlow\n"
      ],
      "metadata": {
        "id": "c1kgYO1OwrF1"
      }
    },
    {
      "cell_type": "markdown",
      "source": [
        "## Data Science Tools\n",
        "\n",
        "| Tool       | Type           |\n",
        "|------------|----------------|\n",
        "| Jupyter    | IDE            |\n",
        "| GitHub     | Version Control|\n",
        "| TensorFlow | Machine Learning|\n",
        "| Power BI   | Data Visualization|\n",
        "| SQL        | Database       |\n"
      ],
      "metadata": {
        "id": "vH4kntvlwslc"
      }
    },
    {
      "cell_type": "markdown",
      "source": [
        "## Arithmetic Expression Examples\n",
        "Below are examples of arithmetic expressions in Python.\n"
      ],
      "metadata": {
        "id": "k3kk_KvJxA3E"
      }
    },
    {
      "cell_type": "code",
      "source": [
        "a = 5\n",
        "b = 3\n",
        "result = (a * b) + 10\n",
        "result"
      ],
      "metadata": {
        "colab": {
          "base_uri": "https://localhost:8080/"
        },
        "id": "uezmcGNqxRuj",
        "outputId": "01aa0df4-2422-4646-e694-3563e17548bf"
      },
      "execution_count": 6,
      "outputs": [
        {
          "output_type": "execute_result",
          "data": {
            "text/plain": [
              "25"
            ]
          },
          "metadata": {},
          "execution_count": 6
        }
      ]
    },
    {
      "cell_type": "code",
      "source": [
        "minutes = 120\n",
        "hours = minutes / 60\n",
        "hours"
      ],
      "metadata": {
        "colab": {
          "base_uri": "https://localhost:8080/"
        },
        "id": "UVByppS6x-CR",
        "outputId": "f4f987b6-48ff-4e5c-9e5a-66ae032495c7"
      },
      "execution_count": 7,
      "outputs": [
        {
          "output_type": "execute_result",
          "data": {
            "text/plain": [
              "2.0"
            ]
          },
          "metadata": {},
          "execution_count": 7
        }
      ]
    },
    {
      "cell_type": "markdown",
      "source": [
        "## Objectives\n",
        "- Understand data science languages\n",
        "- Explore data science libraries\n",
        "- Learn to work with basic arithmetic expressions\n",
        "- Practice unit conversions\n"
      ],
      "metadata": {
        "id": "k0aWfqS7yWQi"
      }
    },
    {
      "cell_type": "markdown",
      "source": [
        "## Author\n",
        "This notebook was created by Sibahle Sithole.\n"
      ],
      "metadata": {
        "id": "W2BPOa-nyrCw"
      }
    }
  ]
}